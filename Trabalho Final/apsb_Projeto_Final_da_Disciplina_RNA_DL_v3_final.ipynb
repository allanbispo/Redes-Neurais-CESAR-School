{
  "nbformat": 4,
  "nbformat_minor": 0,
  "metadata": {
    "colab": {
      "provenance": [],
      "include_colab_link": true
    },
    "kernelspec": {
      "name": "python3",
      "display_name": "Python 3"
    }
  },
  "cells": [
    {
      "cell_type": "markdown",
      "metadata": {
        "id": "view-in-github",
        "colab_type": "text"
      },
      "source": [
        "<a href=\"https://colab.research.google.com/github/allanbispo/Redes-Neurais-CESAR-School/blob/2023.02/apsb_Projeto_Final_da_Disciplina_RNA_DL_v3_final.ipynb\" target=\"_parent\"><img src=\"https://colab.research.google.com/assets/colab-badge.svg\" alt=\"Open In Colab\"/></a>"
      ]
    },
    {
      "cell_type": "markdown",
      "source": [
        "## **Projeto Final da Disciplina**\n",
        "\n",
        "## **CESAR SCHOOL**\n",
        "* Pós-graduação em Engenharia e Análise de Dados - 2023.2\n",
        "* **Disciplina: RNA e Deep Learning**\n",
        "* Professor: **Vitor Casadei**\n",
        "* Aluno: **Allan Bispo** - apsb@cesar.school\n",
        "* **`Link do Dataset Escolhido`**:\n",
        "   * Arabic Handwritten Characters Dataset (https://www.kaggle.com/datasets/mloey1/ahcd1) - Parecido com MNIST"
      ],
      "metadata": {
        "id": "50N3CRnYDVgN"
      }
    },
    {
      "metadata": {
        "id": "3WJk5yG0qPxJ"
      },
      "cell_type": "markdown",
      "source": [
        "## Apresentação do Dataset"
      ]
    },
    {
      "metadata": {
        "id": "eDCTSL77qPxL"
      },
      "cell_type": "markdown",
      "source": [
        "**O objetivo desse dataset é trazer um conjunto de imagens dos caracteres do alfabeto árabe. Esse alfabeto tem 28 algarismos e o dataset tem 16800 amostras com 1024 features e label.**"
      ]
    },
    {
      "metadata": {
        "id": "z0ukeDbBqPxN"
      },
      "cell_type": "markdown",
      "source": [
        "## Importando as bibliotecas"
      ]
    },
    {
      "metadata": {
        "ExecuteTime": {
          "end_time": "2017-11-24T22:54:25.345600Z",
          "start_time": "2017-11-24T22:54:22.586145Z"
        },
        "id": "mDQyvYiAqPxQ"
      },
      "cell_type": "code",
      "source": [
        "import torch\n",
        "import torch.nn as nn\n",
        "import torch.nn.functional as F\n",
        "from torch.optim import lr_scheduler\n",
        "from torch.utils.data import DataLoader, Dataset\n",
        "from torchvision import transforms\n",
        "import numpy as np\n",
        "import pandas as pd\n",
        "from PIL import Image\n",
        "import matplotlib.pyplot as plt\n",
        "from sklearn.metrics import confusion_matrix, ConfusionMatrixDisplay"
      ],
      "execution_count": 62,
      "outputs": []
    },
    {
      "metadata": {
        "id": "fKXjG5D3qPxW"
      },
      "cell_type": "markdown",
      "source": [
        "##(i) Carregamento do dataset e manipulações com os dados"
      ]
    },
    {
      "cell_type": "markdown",
      "source": [
        "### Carregando a base de dados de treino e teste\n",
        "  * Os dados disponíveis no Kaggle já estão divididos, então o loading será direto."
      ],
      "metadata": {
        "id": "NXRE7xUHwbsg"
      }
    },
    {
      "cell_type": "code",
      "source": [
        "from google.colab import drive\n",
        "drive.mount('/content/drive')"
      ],
      "metadata": {
        "colab": {
          "base_uri": "https://localhost:8080/"
        },
        "id": "AnJbwbyu3W1v",
        "outputId": "b867f045-5554-4251-c00b-c4d23ed4e582"
      },
      "execution_count": 13,
      "outputs": [
        {
          "output_type": "stream",
          "name": "stdout",
          "text": [
            "Drive already mounted at /content/drive; to attempt to forcibly remount, call drive.mount(\"/content/drive\", force_remount=True).\n"
          ]
        }
      ]
    },
    {
      "cell_type": "code",
      "source": [
        "train_image = pd.read_csv(\"/content/drive/MyDrive/RNA_DeepL/csv_arabic/csvTrainImages 13440x1024.csv\", header=None)\n",
        "train_label = pd.read_csv(\"/content/drive/MyDrive/RNA_DeepL/csv_arabic/csvTrainLabel 13440x1.csv\", header=None)\n",
        "test_image = pd.read_csv(\"/content/drive/MyDrive/RNA_DeepL/csv_arabic/csvTestImages 3360x1024.csv\", header=None)\n",
        "test_label = pd.read_csv(\"/content/drive/MyDrive/RNA_DeepL/csv_arabic/csvTestLabel 3360x1.csv\", header=None)"
      ],
      "metadata": {
        "id": "sAg8c4REwjTu"
      },
      "execution_count": 14,
      "outputs": []
    },
    {
      "cell_type": "code",
      "source": [
        "# Verificando o shape dos arquivos:\n",
        "\n",
        "print('Shape do train_image: ',train_image.shape)\n",
        "print('Shape do train_label: ',train_label.shape)\n",
        "print('Shape do test_image: ',test_image.shape)\n",
        "print('Shape do test_label: ',test_label.shape)"
      ],
      "metadata": {
        "colab": {
          "base_uri": "https://localhost:8080/"
        },
        "id": "g7lkXE8cEtUR",
        "outputId": "1ed7c8c6-dd45-47fa-a790-80316ed4e87a"
      },
      "execution_count": 24,
      "outputs": [
        {
          "output_type": "stream",
          "name": "stdout",
          "text": [
            "Shape do train_image:  (13440, 1025)\n",
            "Shape do train_label:  (13440, 1)\n",
            "Shape do test_image:  (3360, 1025)\n",
            "Shape do test_label:  (3360, 1)\n"
          ]
        }
      ]
    },
    {
      "cell_type": "markdown",
      "source": [
        "* `Pelo quantitativo o split do dataset foi 80/20, ou seja 20% das amostras foram dedicadas para treino.`"
      ],
      "metadata": {
        "id": "7q2hEA4gFcKU"
      }
    },
    {
      "cell_type": "code",
      "source": [
        "train_image.sample(5)"
      ],
      "metadata": {
        "colab": {
          "base_uri": "https://localhost:8080/",
          "height": 236
        },
        "id": "f5c7v05FFhD_",
        "outputId": "3598ed1b-514c-49bd-d5e1-97962c84542c"
      },
      "execution_count": 25,
      "outputs": [
        {
          "output_type": "execute_result",
          "data": {
            "text/plain": [
              "       0  1  2  3  4  5  6  7  8  9  ...  1015  1016  1017  1018  1019  1020  \\\n",
              "12862  0  0  0  0  0  0  0  0  0  0  ...     0     0     0     0     0     0   \n",
              "4997   0  0  0  0  0  0  0  0  0  0  ...     0     0     0     0     0     0   \n",
              "5793   0  0  0  0  0  0  0  0  0  0  ...     0     0     0     0     0     0   \n",
              "8619   0  0  0  0  0  0  0  0  0  0  ...     0     0     0     0     0     0   \n",
              "5824   0  0  0  0  0  0  0  0  0  0  ...     0     0     0     0     0     0   \n",
              "\n",
              "       1021  1022  1023  label  \n",
              "12862     0     0     0     12  \n",
              "4997      0     0     0      9  \n",
              "5793      0     0     0     25  \n",
              "8619      0     0     0     14  \n",
              "5824      0     0     0      1  \n",
              "\n",
              "[5 rows x 1025 columns]"
            ],
            "text/html": [
              "\n",
              "  <div id=\"df-085e3707-674a-4cbb-a697-d91289bf88b8\" class=\"colab-df-container\">\n",
              "    <div>\n",
              "<style scoped>\n",
              "    .dataframe tbody tr th:only-of-type {\n",
              "        vertical-align: middle;\n",
              "    }\n",
              "\n",
              "    .dataframe tbody tr th {\n",
              "        vertical-align: top;\n",
              "    }\n",
              "\n",
              "    .dataframe thead th {\n",
              "        text-align: right;\n",
              "    }\n",
              "</style>\n",
              "<table border=\"1\" class=\"dataframe\">\n",
              "  <thead>\n",
              "    <tr style=\"text-align: right;\">\n",
              "      <th></th>\n",
              "      <th>0</th>\n",
              "      <th>1</th>\n",
              "      <th>2</th>\n",
              "      <th>3</th>\n",
              "      <th>4</th>\n",
              "      <th>5</th>\n",
              "      <th>6</th>\n",
              "      <th>7</th>\n",
              "      <th>8</th>\n",
              "      <th>9</th>\n",
              "      <th>...</th>\n",
              "      <th>1015</th>\n",
              "      <th>1016</th>\n",
              "      <th>1017</th>\n",
              "      <th>1018</th>\n",
              "      <th>1019</th>\n",
              "      <th>1020</th>\n",
              "      <th>1021</th>\n",
              "      <th>1022</th>\n",
              "      <th>1023</th>\n",
              "      <th>label</th>\n",
              "    </tr>\n",
              "  </thead>\n",
              "  <tbody>\n",
              "    <tr>\n",
              "      <th>12862</th>\n",
              "      <td>0</td>\n",
              "      <td>0</td>\n",
              "      <td>0</td>\n",
              "      <td>0</td>\n",
              "      <td>0</td>\n",
              "      <td>0</td>\n",
              "      <td>0</td>\n",
              "      <td>0</td>\n",
              "      <td>0</td>\n",
              "      <td>0</td>\n",
              "      <td>...</td>\n",
              "      <td>0</td>\n",
              "      <td>0</td>\n",
              "      <td>0</td>\n",
              "      <td>0</td>\n",
              "      <td>0</td>\n",
              "      <td>0</td>\n",
              "      <td>0</td>\n",
              "      <td>0</td>\n",
              "      <td>0</td>\n",
              "      <td>12</td>\n",
              "    </tr>\n",
              "    <tr>\n",
              "      <th>4997</th>\n",
              "      <td>0</td>\n",
              "      <td>0</td>\n",
              "      <td>0</td>\n",
              "      <td>0</td>\n",
              "      <td>0</td>\n",
              "      <td>0</td>\n",
              "      <td>0</td>\n",
              "      <td>0</td>\n",
              "      <td>0</td>\n",
              "      <td>0</td>\n",
              "      <td>...</td>\n",
              "      <td>0</td>\n",
              "      <td>0</td>\n",
              "      <td>0</td>\n",
              "      <td>0</td>\n",
              "      <td>0</td>\n",
              "      <td>0</td>\n",
              "      <td>0</td>\n",
              "      <td>0</td>\n",
              "      <td>0</td>\n",
              "      <td>9</td>\n",
              "    </tr>\n",
              "    <tr>\n",
              "      <th>5793</th>\n",
              "      <td>0</td>\n",
              "      <td>0</td>\n",
              "      <td>0</td>\n",
              "      <td>0</td>\n",
              "      <td>0</td>\n",
              "      <td>0</td>\n",
              "      <td>0</td>\n",
              "      <td>0</td>\n",
              "      <td>0</td>\n",
              "      <td>0</td>\n",
              "      <td>...</td>\n",
              "      <td>0</td>\n",
              "      <td>0</td>\n",
              "      <td>0</td>\n",
              "      <td>0</td>\n",
              "      <td>0</td>\n",
              "      <td>0</td>\n",
              "      <td>0</td>\n",
              "      <td>0</td>\n",
              "      <td>0</td>\n",
              "      <td>25</td>\n",
              "    </tr>\n",
              "    <tr>\n",
              "      <th>8619</th>\n",
              "      <td>0</td>\n",
              "      <td>0</td>\n",
              "      <td>0</td>\n",
              "      <td>0</td>\n",
              "      <td>0</td>\n",
              "      <td>0</td>\n",
              "      <td>0</td>\n",
              "      <td>0</td>\n",
              "      <td>0</td>\n",
              "      <td>0</td>\n",
              "      <td>...</td>\n",
              "      <td>0</td>\n",
              "      <td>0</td>\n",
              "      <td>0</td>\n",
              "      <td>0</td>\n",
              "      <td>0</td>\n",
              "      <td>0</td>\n",
              "      <td>0</td>\n",
              "      <td>0</td>\n",
              "      <td>0</td>\n",
              "      <td>14</td>\n",
              "    </tr>\n",
              "    <tr>\n",
              "      <th>5824</th>\n",
              "      <td>0</td>\n",
              "      <td>0</td>\n",
              "      <td>0</td>\n",
              "      <td>0</td>\n",
              "      <td>0</td>\n",
              "      <td>0</td>\n",
              "      <td>0</td>\n",
              "      <td>0</td>\n",
              "      <td>0</td>\n",
              "      <td>0</td>\n",
              "      <td>...</td>\n",
              "      <td>0</td>\n",
              "      <td>0</td>\n",
              "      <td>0</td>\n",
              "      <td>0</td>\n",
              "      <td>0</td>\n",
              "      <td>0</td>\n",
              "      <td>0</td>\n",
              "      <td>0</td>\n",
              "      <td>0</td>\n",
              "      <td>1</td>\n",
              "    </tr>\n",
              "  </tbody>\n",
              "</table>\n",
              "<p>5 rows × 1025 columns</p>\n",
              "</div>\n",
              "    <div class=\"colab-df-buttons\">\n",
              "\n",
              "  <div class=\"colab-df-container\">\n",
              "    <button class=\"colab-df-convert\" onclick=\"convertToInteractive('df-085e3707-674a-4cbb-a697-d91289bf88b8')\"\n",
              "            title=\"Convert this dataframe to an interactive table.\"\n",
              "            style=\"display:none;\">\n",
              "\n",
              "  <svg xmlns=\"http://www.w3.org/2000/svg\" height=\"24px\" viewBox=\"0 -960 960 960\">\n",
              "    <path d=\"M120-120v-720h720v720H120Zm60-500h600v-160H180v160Zm220 220h160v-160H400v160Zm0 220h160v-160H400v160ZM180-400h160v-160H180v160Zm440 0h160v-160H620v160ZM180-180h160v-160H180v160Zm440 0h160v-160H620v160Z\"/>\n",
              "  </svg>\n",
              "    </button>\n",
              "\n",
              "  <style>\n",
              "    .colab-df-container {\n",
              "      display:flex;\n",
              "      gap: 12px;\n",
              "    }\n",
              "\n",
              "    .colab-df-convert {\n",
              "      background-color: #E8F0FE;\n",
              "      border: none;\n",
              "      border-radius: 50%;\n",
              "      cursor: pointer;\n",
              "      display: none;\n",
              "      fill: #1967D2;\n",
              "      height: 32px;\n",
              "      padding: 0 0 0 0;\n",
              "      width: 32px;\n",
              "    }\n",
              "\n",
              "    .colab-df-convert:hover {\n",
              "      background-color: #E2EBFA;\n",
              "      box-shadow: 0px 1px 2px rgba(60, 64, 67, 0.3), 0px 1px 3px 1px rgba(60, 64, 67, 0.15);\n",
              "      fill: #174EA6;\n",
              "    }\n",
              "\n",
              "    .colab-df-buttons div {\n",
              "      margin-bottom: 4px;\n",
              "    }\n",
              "\n",
              "    [theme=dark] .colab-df-convert {\n",
              "      background-color: #3B4455;\n",
              "      fill: #D2E3FC;\n",
              "    }\n",
              "\n",
              "    [theme=dark] .colab-df-convert:hover {\n",
              "      background-color: #434B5C;\n",
              "      box-shadow: 0px 1px 3px 1px rgba(0, 0, 0, 0.15);\n",
              "      filter: drop-shadow(0px 1px 2px rgba(0, 0, 0, 0.3));\n",
              "      fill: #FFFFFF;\n",
              "    }\n",
              "  </style>\n",
              "\n",
              "    <script>\n",
              "      const buttonEl =\n",
              "        document.querySelector('#df-085e3707-674a-4cbb-a697-d91289bf88b8 button.colab-df-convert');\n",
              "      buttonEl.style.display =\n",
              "        google.colab.kernel.accessAllowed ? 'block' : 'none';\n",
              "\n",
              "      async function convertToInteractive(key) {\n",
              "        const element = document.querySelector('#df-085e3707-674a-4cbb-a697-d91289bf88b8');\n",
              "        const dataTable =\n",
              "          await google.colab.kernel.invokeFunction('convertToInteractive',\n",
              "                                                    [key], {});\n",
              "        if (!dataTable) return;\n",
              "\n",
              "        const docLinkHtml = 'Like what you see? Visit the ' +\n",
              "          '<a target=\"_blank\" href=https://colab.research.google.com/notebooks/data_table.ipynb>data table notebook</a>'\n",
              "          + ' to learn more about interactive tables.';\n",
              "        element.innerHTML = '';\n",
              "        dataTable['output_type'] = 'display_data';\n",
              "        await google.colab.output.renderOutput(dataTable, element);\n",
              "        const docLink = document.createElement('div');\n",
              "        docLink.innerHTML = docLinkHtml;\n",
              "        element.appendChild(docLink);\n",
              "      }\n",
              "    </script>\n",
              "  </div>\n",
              "\n",
              "\n",
              "<div id=\"df-c6494c86-54c3-4117-97cf-fa7ecaa6b5ff\">\n",
              "  <button class=\"colab-df-quickchart\" onclick=\"quickchart('df-c6494c86-54c3-4117-97cf-fa7ecaa6b5ff')\"\n",
              "            title=\"Suggest charts\"\n",
              "            style=\"display:none;\">\n",
              "\n",
              "<svg xmlns=\"http://www.w3.org/2000/svg\" height=\"24px\"viewBox=\"0 0 24 24\"\n",
              "     width=\"24px\">\n",
              "    <g>\n",
              "        <path d=\"M19 3H5c-1.1 0-2 .9-2 2v14c0 1.1.9 2 2 2h14c1.1 0 2-.9 2-2V5c0-1.1-.9-2-2-2zM9 17H7v-7h2v7zm4 0h-2V7h2v10zm4 0h-2v-4h2v4z\"/>\n",
              "    </g>\n",
              "</svg>\n",
              "  </button>\n",
              "\n",
              "<style>\n",
              "  .colab-df-quickchart {\n",
              "      --bg-color: #E8F0FE;\n",
              "      --fill-color: #1967D2;\n",
              "      --hover-bg-color: #E2EBFA;\n",
              "      --hover-fill-color: #174EA6;\n",
              "      --disabled-fill-color: #AAA;\n",
              "      --disabled-bg-color: #DDD;\n",
              "  }\n",
              "\n",
              "  [theme=dark] .colab-df-quickchart {\n",
              "      --bg-color: #3B4455;\n",
              "      --fill-color: #D2E3FC;\n",
              "      --hover-bg-color: #434B5C;\n",
              "      --hover-fill-color: #FFFFFF;\n",
              "      --disabled-bg-color: #3B4455;\n",
              "      --disabled-fill-color: #666;\n",
              "  }\n",
              "\n",
              "  .colab-df-quickchart {\n",
              "    background-color: var(--bg-color);\n",
              "    border: none;\n",
              "    border-radius: 50%;\n",
              "    cursor: pointer;\n",
              "    display: none;\n",
              "    fill: var(--fill-color);\n",
              "    height: 32px;\n",
              "    padding: 0;\n",
              "    width: 32px;\n",
              "  }\n",
              "\n",
              "  .colab-df-quickchart:hover {\n",
              "    background-color: var(--hover-bg-color);\n",
              "    box-shadow: 0 1px 2px rgba(60, 64, 67, 0.3), 0 1px 3px 1px rgba(60, 64, 67, 0.15);\n",
              "    fill: var(--button-hover-fill-color);\n",
              "  }\n",
              "\n",
              "  .colab-df-quickchart-complete:disabled,\n",
              "  .colab-df-quickchart-complete:disabled:hover {\n",
              "    background-color: var(--disabled-bg-color);\n",
              "    fill: var(--disabled-fill-color);\n",
              "    box-shadow: none;\n",
              "  }\n",
              "\n",
              "  .colab-df-spinner {\n",
              "    border: 2px solid var(--fill-color);\n",
              "    border-color: transparent;\n",
              "    border-bottom-color: var(--fill-color);\n",
              "    animation:\n",
              "      spin 1s steps(1) infinite;\n",
              "  }\n",
              "\n",
              "  @keyframes spin {\n",
              "    0% {\n",
              "      border-color: transparent;\n",
              "      border-bottom-color: var(--fill-color);\n",
              "      border-left-color: var(--fill-color);\n",
              "    }\n",
              "    20% {\n",
              "      border-color: transparent;\n",
              "      border-left-color: var(--fill-color);\n",
              "      border-top-color: var(--fill-color);\n",
              "    }\n",
              "    30% {\n",
              "      border-color: transparent;\n",
              "      border-left-color: var(--fill-color);\n",
              "      border-top-color: var(--fill-color);\n",
              "      border-right-color: var(--fill-color);\n",
              "    }\n",
              "    40% {\n",
              "      border-color: transparent;\n",
              "      border-right-color: var(--fill-color);\n",
              "      border-top-color: var(--fill-color);\n",
              "    }\n",
              "    60% {\n",
              "      border-color: transparent;\n",
              "      border-right-color: var(--fill-color);\n",
              "    }\n",
              "    80% {\n",
              "      border-color: transparent;\n",
              "      border-right-color: var(--fill-color);\n",
              "      border-bottom-color: var(--fill-color);\n",
              "    }\n",
              "    90% {\n",
              "      border-color: transparent;\n",
              "      border-bottom-color: var(--fill-color);\n",
              "    }\n",
              "  }\n",
              "</style>\n",
              "\n",
              "  <script>\n",
              "    async function quickchart(key) {\n",
              "      const quickchartButtonEl =\n",
              "        document.querySelector('#' + key + ' button');\n",
              "      quickchartButtonEl.disabled = true;  // To prevent multiple clicks.\n",
              "      quickchartButtonEl.classList.add('colab-df-spinner');\n",
              "      try {\n",
              "        const charts = await google.colab.kernel.invokeFunction(\n",
              "            'suggestCharts', [key], {});\n",
              "      } catch (error) {\n",
              "        console.error('Error during call to suggestCharts:', error);\n",
              "      }\n",
              "      quickchartButtonEl.classList.remove('colab-df-spinner');\n",
              "      quickchartButtonEl.classList.add('colab-df-quickchart-complete');\n",
              "    }\n",
              "    (() => {\n",
              "      let quickchartButtonEl =\n",
              "        document.querySelector('#df-c6494c86-54c3-4117-97cf-fa7ecaa6b5ff button');\n",
              "      quickchartButtonEl.style.display =\n",
              "        google.colab.kernel.accessAllowed ? 'block' : 'none';\n",
              "    })();\n",
              "  </script>\n",
              "</div>\n",
              "\n",
              "    </div>\n",
              "  </div>\n"
            ],
            "application/vnd.google.colaboratory.intrinsic+json": {
              "type": "dataframe"
            }
          },
          "metadata": {},
          "execution_count": 25
        }
      ]
    },
    {
      "cell_type": "code",
      "source": [
        "test_label.sample(5)"
      ],
      "metadata": {
        "colab": {
          "base_uri": "https://localhost:8080/",
          "height": 206
        },
        "id": "Xbfgh2scFpbV",
        "outputId": "ab75ce65-15f7-46a9-a8f4-137a97eda975"
      },
      "execution_count": 26,
      "outputs": [
        {
          "output_type": "execute_result",
          "data": {
            "text/plain": [
              "       0\n",
              "58     2\n",
              "1135   8\n",
              "2797  27\n",
              "2734  24\n",
              "842    2"
            ],
            "text/html": [
              "\n",
              "  <div id=\"df-2ead4364-d11e-488f-8318-69bdeea2f18e\" class=\"colab-df-container\">\n",
              "    <div>\n",
              "<style scoped>\n",
              "    .dataframe tbody tr th:only-of-type {\n",
              "        vertical-align: middle;\n",
              "    }\n",
              "\n",
              "    .dataframe tbody tr th {\n",
              "        vertical-align: top;\n",
              "    }\n",
              "\n",
              "    .dataframe thead th {\n",
              "        text-align: right;\n",
              "    }\n",
              "</style>\n",
              "<table border=\"1\" class=\"dataframe\">\n",
              "  <thead>\n",
              "    <tr style=\"text-align: right;\">\n",
              "      <th></th>\n",
              "      <th>0</th>\n",
              "    </tr>\n",
              "  </thead>\n",
              "  <tbody>\n",
              "    <tr>\n",
              "      <th>58</th>\n",
              "      <td>2</td>\n",
              "    </tr>\n",
              "    <tr>\n",
              "      <th>1135</th>\n",
              "      <td>8</td>\n",
              "    </tr>\n",
              "    <tr>\n",
              "      <th>2797</th>\n",
              "      <td>27</td>\n",
              "    </tr>\n",
              "    <tr>\n",
              "      <th>2734</th>\n",
              "      <td>24</td>\n",
              "    </tr>\n",
              "    <tr>\n",
              "      <th>842</th>\n",
              "      <td>2</td>\n",
              "    </tr>\n",
              "  </tbody>\n",
              "</table>\n",
              "</div>\n",
              "    <div class=\"colab-df-buttons\">\n",
              "\n",
              "  <div class=\"colab-df-container\">\n",
              "    <button class=\"colab-df-convert\" onclick=\"convertToInteractive('df-2ead4364-d11e-488f-8318-69bdeea2f18e')\"\n",
              "            title=\"Convert this dataframe to an interactive table.\"\n",
              "            style=\"display:none;\">\n",
              "\n",
              "  <svg xmlns=\"http://www.w3.org/2000/svg\" height=\"24px\" viewBox=\"0 -960 960 960\">\n",
              "    <path d=\"M120-120v-720h720v720H120Zm60-500h600v-160H180v160Zm220 220h160v-160H400v160Zm0 220h160v-160H400v160ZM180-400h160v-160H180v160Zm440 0h160v-160H620v160ZM180-180h160v-160H180v160Zm440 0h160v-160H620v160Z\"/>\n",
              "  </svg>\n",
              "    </button>\n",
              "\n",
              "  <style>\n",
              "    .colab-df-container {\n",
              "      display:flex;\n",
              "      gap: 12px;\n",
              "    }\n",
              "\n",
              "    .colab-df-convert {\n",
              "      background-color: #E8F0FE;\n",
              "      border: none;\n",
              "      border-radius: 50%;\n",
              "      cursor: pointer;\n",
              "      display: none;\n",
              "      fill: #1967D2;\n",
              "      height: 32px;\n",
              "      padding: 0 0 0 0;\n",
              "      width: 32px;\n",
              "    }\n",
              "\n",
              "    .colab-df-convert:hover {\n",
              "      background-color: #E2EBFA;\n",
              "      box-shadow: 0px 1px 2px rgba(60, 64, 67, 0.3), 0px 1px 3px 1px rgba(60, 64, 67, 0.15);\n",
              "      fill: #174EA6;\n",
              "    }\n",
              "\n",
              "    .colab-df-buttons div {\n",
              "      margin-bottom: 4px;\n",
              "    }\n",
              "\n",
              "    [theme=dark] .colab-df-convert {\n",
              "      background-color: #3B4455;\n",
              "      fill: #D2E3FC;\n",
              "    }\n",
              "\n",
              "    [theme=dark] .colab-df-convert:hover {\n",
              "      background-color: #434B5C;\n",
              "      box-shadow: 0px 1px 3px 1px rgba(0, 0, 0, 0.15);\n",
              "      filter: drop-shadow(0px 1px 2px rgba(0, 0, 0, 0.3));\n",
              "      fill: #FFFFFF;\n",
              "    }\n",
              "  </style>\n",
              "\n",
              "    <script>\n",
              "      const buttonEl =\n",
              "        document.querySelector('#df-2ead4364-d11e-488f-8318-69bdeea2f18e button.colab-df-convert');\n",
              "      buttonEl.style.display =\n",
              "        google.colab.kernel.accessAllowed ? 'block' : 'none';\n",
              "\n",
              "      async function convertToInteractive(key) {\n",
              "        const element = document.querySelector('#df-2ead4364-d11e-488f-8318-69bdeea2f18e');\n",
              "        const dataTable =\n",
              "          await google.colab.kernel.invokeFunction('convertToInteractive',\n",
              "                                                    [key], {});\n",
              "        if (!dataTable) return;\n",
              "\n",
              "        const docLinkHtml = 'Like what you see? Visit the ' +\n",
              "          '<a target=\"_blank\" href=https://colab.research.google.com/notebooks/data_table.ipynb>data table notebook</a>'\n",
              "          + ' to learn more about interactive tables.';\n",
              "        element.innerHTML = '';\n",
              "        dataTable['output_type'] = 'display_data';\n",
              "        await google.colab.output.renderOutput(dataTable, element);\n",
              "        const docLink = document.createElement('div');\n",
              "        docLink.innerHTML = docLinkHtml;\n",
              "        element.appendChild(docLink);\n",
              "      }\n",
              "    </script>\n",
              "  </div>\n",
              "\n",
              "\n",
              "<div id=\"df-1eb0c725-e069-45b6-83be-e72edcc5ace7\">\n",
              "  <button class=\"colab-df-quickchart\" onclick=\"quickchart('df-1eb0c725-e069-45b6-83be-e72edcc5ace7')\"\n",
              "            title=\"Suggest charts\"\n",
              "            style=\"display:none;\">\n",
              "\n",
              "<svg xmlns=\"http://www.w3.org/2000/svg\" height=\"24px\"viewBox=\"0 0 24 24\"\n",
              "     width=\"24px\">\n",
              "    <g>\n",
              "        <path d=\"M19 3H5c-1.1 0-2 .9-2 2v14c0 1.1.9 2 2 2h14c1.1 0 2-.9 2-2V5c0-1.1-.9-2-2-2zM9 17H7v-7h2v7zm4 0h-2V7h2v10zm4 0h-2v-4h2v4z\"/>\n",
              "    </g>\n",
              "</svg>\n",
              "  </button>\n",
              "\n",
              "<style>\n",
              "  .colab-df-quickchart {\n",
              "      --bg-color: #E8F0FE;\n",
              "      --fill-color: #1967D2;\n",
              "      --hover-bg-color: #E2EBFA;\n",
              "      --hover-fill-color: #174EA6;\n",
              "      --disabled-fill-color: #AAA;\n",
              "      --disabled-bg-color: #DDD;\n",
              "  }\n",
              "\n",
              "  [theme=dark] .colab-df-quickchart {\n",
              "      --bg-color: #3B4455;\n",
              "      --fill-color: #D2E3FC;\n",
              "      --hover-bg-color: #434B5C;\n",
              "      --hover-fill-color: #FFFFFF;\n",
              "      --disabled-bg-color: #3B4455;\n",
              "      --disabled-fill-color: #666;\n",
              "  }\n",
              "\n",
              "  .colab-df-quickchart {\n",
              "    background-color: var(--bg-color);\n",
              "    border: none;\n",
              "    border-radius: 50%;\n",
              "    cursor: pointer;\n",
              "    display: none;\n",
              "    fill: var(--fill-color);\n",
              "    height: 32px;\n",
              "    padding: 0;\n",
              "    width: 32px;\n",
              "  }\n",
              "\n",
              "  .colab-df-quickchart:hover {\n",
              "    background-color: var(--hover-bg-color);\n",
              "    box-shadow: 0 1px 2px rgba(60, 64, 67, 0.3), 0 1px 3px 1px rgba(60, 64, 67, 0.15);\n",
              "    fill: var(--button-hover-fill-color);\n",
              "  }\n",
              "\n",
              "  .colab-df-quickchart-complete:disabled,\n",
              "  .colab-df-quickchart-complete:disabled:hover {\n",
              "    background-color: var(--disabled-bg-color);\n",
              "    fill: var(--disabled-fill-color);\n",
              "    box-shadow: none;\n",
              "  }\n",
              "\n",
              "  .colab-df-spinner {\n",
              "    border: 2px solid var(--fill-color);\n",
              "    border-color: transparent;\n",
              "    border-bottom-color: var(--fill-color);\n",
              "    animation:\n",
              "      spin 1s steps(1) infinite;\n",
              "  }\n",
              "\n",
              "  @keyframes spin {\n",
              "    0% {\n",
              "      border-color: transparent;\n",
              "      border-bottom-color: var(--fill-color);\n",
              "      border-left-color: var(--fill-color);\n",
              "    }\n",
              "    20% {\n",
              "      border-color: transparent;\n",
              "      border-left-color: var(--fill-color);\n",
              "      border-top-color: var(--fill-color);\n",
              "    }\n",
              "    30% {\n",
              "      border-color: transparent;\n",
              "      border-left-color: var(--fill-color);\n",
              "      border-top-color: var(--fill-color);\n",
              "      border-right-color: var(--fill-color);\n",
              "    }\n",
              "    40% {\n",
              "      border-color: transparent;\n",
              "      border-right-color: var(--fill-color);\n",
              "      border-top-color: var(--fill-color);\n",
              "    }\n",
              "    60% {\n",
              "      border-color: transparent;\n",
              "      border-right-color: var(--fill-color);\n",
              "    }\n",
              "    80% {\n",
              "      border-color: transparent;\n",
              "      border-right-color: var(--fill-color);\n",
              "      border-bottom-color: var(--fill-color);\n",
              "    }\n",
              "    90% {\n",
              "      border-color: transparent;\n",
              "      border-bottom-color: var(--fill-color);\n",
              "    }\n",
              "  }\n",
              "</style>\n",
              "\n",
              "  <script>\n",
              "    async function quickchart(key) {\n",
              "      const quickchartButtonEl =\n",
              "        document.querySelector('#' + key + ' button');\n",
              "      quickchartButtonEl.disabled = true;  // To prevent multiple clicks.\n",
              "      quickchartButtonEl.classList.add('colab-df-spinner');\n",
              "      try {\n",
              "        const charts = await google.colab.kernel.invokeFunction(\n",
              "            'suggestCharts', [key], {});\n",
              "      } catch (error) {\n",
              "        console.error('Error during call to suggestCharts:', error);\n",
              "      }\n",
              "      quickchartButtonEl.classList.remove('colab-df-spinner');\n",
              "      quickchartButtonEl.classList.add('colab-df-quickchart-complete');\n",
              "    }\n",
              "    (() => {\n",
              "      let quickchartButtonEl =\n",
              "        document.querySelector('#df-1eb0c725-e069-45b6-83be-e72edcc5ace7 button');\n",
              "      quickchartButtonEl.style.display =\n",
              "        google.colab.kernel.accessAllowed ? 'block' : 'none';\n",
              "    })();\n",
              "  </script>\n",
              "</div>\n",
              "\n",
              "    </div>\n",
              "  </div>\n"
            ],
            "application/vnd.google.colaboratory.intrinsic+json": {
              "type": "dataframe",
              "summary": "{\n  \"name\": \"test_label\",\n  \"rows\": 5,\n  \"fields\": [\n    {\n      \"column\": 0,\n      \"properties\": {\n        \"dtype\": \"number\",\n        \"std\": 12,\n        \"min\": 2,\n        \"max\": 27,\n        \"num_unique_values\": 4,\n        \"samples\": [\n          8,\n          24,\n          2\n        ],\n        \"semantic_type\": \"\",\n        \"description\": \"\"\n      }\n    }\n  ]\n}"
            }
          },
          "metadata": {},
          "execution_count": 26
        }
      ]
    },
    {
      "cell_type": "code",
      "source": [
        "train_label.describe()"
      ],
      "metadata": {
        "colab": {
          "base_uri": "https://localhost:8080/",
          "height": 300
        },
        "id": "xWzlL1xCFxL2",
        "outputId": "48de587a-3398-427e-b1ca-0aab45815a26"
      },
      "execution_count": 27,
      "outputs": [
        {
          "output_type": "execute_result",
          "data": {
            "text/plain": [
              "                  0\n",
              "count  13440.000000\n",
              "mean      14.500000\n",
              "std        8.078048\n",
              "min        1.000000\n",
              "25%        7.750000\n",
              "50%       14.500000\n",
              "75%       21.250000\n",
              "max       28.000000"
            ],
            "text/html": [
              "\n",
              "  <div id=\"df-f6cfbbec-a888-41de-8b6f-a8f9da2f5580\" class=\"colab-df-container\">\n",
              "    <div>\n",
              "<style scoped>\n",
              "    .dataframe tbody tr th:only-of-type {\n",
              "        vertical-align: middle;\n",
              "    }\n",
              "\n",
              "    .dataframe tbody tr th {\n",
              "        vertical-align: top;\n",
              "    }\n",
              "\n",
              "    .dataframe thead th {\n",
              "        text-align: right;\n",
              "    }\n",
              "</style>\n",
              "<table border=\"1\" class=\"dataframe\">\n",
              "  <thead>\n",
              "    <tr style=\"text-align: right;\">\n",
              "      <th></th>\n",
              "      <th>0</th>\n",
              "    </tr>\n",
              "  </thead>\n",
              "  <tbody>\n",
              "    <tr>\n",
              "      <th>count</th>\n",
              "      <td>13440.000000</td>\n",
              "    </tr>\n",
              "    <tr>\n",
              "      <th>mean</th>\n",
              "      <td>14.500000</td>\n",
              "    </tr>\n",
              "    <tr>\n",
              "      <th>std</th>\n",
              "      <td>8.078048</td>\n",
              "    </tr>\n",
              "    <tr>\n",
              "      <th>min</th>\n",
              "      <td>1.000000</td>\n",
              "    </tr>\n",
              "    <tr>\n",
              "      <th>25%</th>\n",
              "      <td>7.750000</td>\n",
              "    </tr>\n",
              "    <tr>\n",
              "      <th>50%</th>\n",
              "      <td>14.500000</td>\n",
              "    </tr>\n",
              "    <tr>\n",
              "      <th>75%</th>\n",
              "      <td>21.250000</td>\n",
              "    </tr>\n",
              "    <tr>\n",
              "      <th>max</th>\n",
              "      <td>28.000000</td>\n",
              "    </tr>\n",
              "  </tbody>\n",
              "</table>\n",
              "</div>\n",
              "    <div class=\"colab-df-buttons\">\n",
              "\n",
              "  <div class=\"colab-df-container\">\n",
              "    <button class=\"colab-df-convert\" onclick=\"convertToInteractive('df-f6cfbbec-a888-41de-8b6f-a8f9da2f5580')\"\n",
              "            title=\"Convert this dataframe to an interactive table.\"\n",
              "            style=\"display:none;\">\n",
              "\n",
              "  <svg xmlns=\"http://www.w3.org/2000/svg\" height=\"24px\" viewBox=\"0 -960 960 960\">\n",
              "    <path d=\"M120-120v-720h720v720H120Zm60-500h600v-160H180v160Zm220 220h160v-160H400v160Zm0 220h160v-160H400v160ZM180-400h160v-160H180v160Zm440 0h160v-160H620v160ZM180-180h160v-160H180v160Zm440 0h160v-160H620v160Z\"/>\n",
              "  </svg>\n",
              "    </button>\n",
              "\n",
              "  <style>\n",
              "    .colab-df-container {\n",
              "      display:flex;\n",
              "      gap: 12px;\n",
              "    }\n",
              "\n",
              "    .colab-df-convert {\n",
              "      background-color: #E8F0FE;\n",
              "      border: none;\n",
              "      border-radius: 50%;\n",
              "      cursor: pointer;\n",
              "      display: none;\n",
              "      fill: #1967D2;\n",
              "      height: 32px;\n",
              "      padding: 0 0 0 0;\n",
              "      width: 32px;\n",
              "    }\n",
              "\n",
              "    .colab-df-convert:hover {\n",
              "      background-color: #E2EBFA;\n",
              "      box-shadow: 0px 1px 2px rgba(60, 64, 67, 0.3), 0px 1px 3px 1px rgba(60, 64, 67, 0.15);\n",
              "      fill: #174EA6;\n",
              "    }\n",
              "\n",
              "    .colab-df-buttons div {\n",
              "      margin-bottom: 4px;\n",
              "    }\n",
              "\n",
              "    [theme=dark] .colab-df-convert {\n",
              "      background-color: #3B4455;\n",
              "      fill: #D2E3FC;\n",
              "    }\n",
              "\n",
              "    [theme=dark] .colab-df-convert:hover {\n",
              "      background-color: #434B5C;\n",
              "      box-shadow: 0px 1px 3px 1px rgba(0, 0, 0, 0.15);\n",
              "      filter: drop-shadow(0px 1px 2px rgba(0, 0, 0, 0.3));\n",
              "      fill: #FFFFFF;\n",
              "    }\n",
              "  </style>\n",
              "\n",
              "    <script>\n",
              "      const buttonEl =\n",
              "        document.querySelector('#df-f6cfbbec-a888-41de-8b6f-a8f9da2f5580 button.colab-df-convert');\n",
              "      buttonEl.style.display =\n",
              "        google.colab.kernel.accessAllowed ? 'block' : 'none';\n",
              "\n",
              "      async function convertToInteractive(key) {\n",
              "        const element = document.querySelector('#df-f6cfbbec-a888-41de-8b6f-a8f9da2f5580');\n",
              "        const dataTable =\n",
              "          await google.colab.kernel.invokeFunction('convertToInteractive',\n",
              "                                                    [key], {});\n",
              "        if (!dataTable) return;\n",
              "\n",
              "        const docLinkHtml = 'Like what you see? Visit the ' +\n",
              "          '<a target=\"_blank\" href=https://colab.research.google.com/notebooks/data_table.ipynb>data table notebook</a>'\n",
              "          + ' to learn more about interactive tables.';\n",
              "        element.innerHTML = '';\n",
              "        dataTable['output_type'] = 'display_data';\n",
              "        await google.colab.output.renderOutput(dataTable, element);\n",
              "        const docLink = document.createElement('div');\n",
              "        docLink.innerHTML = docLinkHtml;\n",
              "        element.appendChild(docLink);\n",
              "      }\n",
              "    </script>\n",
              "  </div>\n",
              "\n",
              "\n",
              "<div id=\"df-6b6ac383-1c49-45f5-826a-8e28d3fa26ca\">\n",
              "  <button class=\"colab-df-quickchart\" onclick=\"quickchart('df-6b6ac383-1c49-45f5-826a-8e28d3fa26ca')\"\n",
              "            title=\"Suggest charts\"\n",
              "            style=\"display:none;\">\n",
              "\n",
              "<svg xmlns=\"http://www.w3.org/2000/svg\" height=\"24px\"viewBox=\"0 0 24 24\"\n",
              "     width=\"24px\">\n",
              "    <g>\n",
              "        <path d=\"M19 3H5c-1.1 0-2 .9-2 2v14c0 1.1.9 2 2 2h14c1.1 0 2-.9 2-2V5c0-1.1-.9-2-2-2zM9 17H7v-7h2v7zm4 0h-2V7h2v10zm4 0h-2v-4h2v4z\"/>\n",
              "    </g>\n",
              "</svg>\n",
              "  </button>\n",
              "\n",
              "<style>\n",
              "  .colab-df-quickchart {\n",
              "      --bg-color: #E8F0FE;\n",
              "      --fill-color: #1967D2;\n",
              "      --hover-bg-color: #E2EBFA;\n",
              "      --hover-fill-color: #174EA6;\n",
              "      --disabled-fill-color: #AAA;\n",
              "      --disabled-bg-color: #DDD;\n",
              "  }\n",
              "\n",
              "  [theme=dark] .colab-df-quickchart {\n",
              "      --bg-color: #3B4455;\n",
              "      --fill-color: #D2E3FC;\n",
              "      --hover-bg-color: #434B5C;\n",
              "      --hover-fill-color: #FFFFFF;\n",
              "      --disabled-bg-color: #3B4455;\n",
              "      --disabled-fill-color: #666;\n",
              "  }\n",
              "\n",
              "  .colab-df-quickchart {\n",
              "    background-color: var(--bg-color);\n",
              "    border: none;\n",
              "    border-radius: 50%;\n",
              "    cursor: pointer;\n",
              "    display: none;\n",
              "    fill: var(--fill-color);\n",
              "    height: 32px;\n",
              "    padding: 0;\n",
              "    width: 32px;\n",
              "  }\n",
              "\n",
              "  .colab-df-quickchart:hover {\n",
              "    background-color: var(--hover-bg-color);\n",
              "    box-shadow: 0 1px 2px rgba(60, 64, 67, 0.3), 0 1px 3px 1px rgba(60, 64, 67, 0.15);\n",
              "    fill: var(--button-hover-fill-color);\n",
              "  }\n",
              "\n",
              "  .colab-df-quickchart-complete:disabled,\n",
              "  .colab-df-quickchart-complete:disabled:hover {\n",
              "    background-color: var(--disabled-bg-color);\n",
              "    fill: var(--disabled-fill-color);\n",
              "    box-shadow: none;\n",
              "  }\n",
              "\n",
              "  .colab-df-spinner {\n",
              "    border: 2px solid var(--fill-color);\n",
              "    border-color: transparent;\n",
              "    border-bottom-color: var(--fill-color);\n",
              "    animation:\n",
              "      spin 1s steps(1) infinite;\n",
              "  }\n",
              "\n",
              "  @keyframes spin {\n",
              "    0% {\n",
              "      border-color: transparent;\n",
              "      border-bottom-color: var(--fill-color);\n",
              "      border-left-color: var(--fill-color);\n",
              "    }\n",
              "    20% {\n",
              "      border-color: transparent;\n",
              "      border-left-color: var(--fill-color);\n",
              "      border-top-color: var(--fill-color);\n",
              "    }\n",
              "    30% {\n",
              "      border-color: transparent;\n",
              "      border-left-color: var(--fill-color);\n",
              "      border-top-color: var(--fill-color);\n",
              "      border-right-color: var(--fill-color);\n",
              "    }\n",
              "    40% {\n",
              "      border-color: transparent;\n",
              "      border-right-color: var(--fill-color);\n",
              "      border-top-color: var(--fill-color);\n",
              "    }\n",
              "    60% {\n",
              "      border-color: transparent;\n",
              "      border-right-color: var(--fill-color);\n",
              "    }\n",
              "    80% {\n",
              "      border-color: transparent;\n",
              "      border-right-color: var(--fill-color);\n",
              "      border-bottom-color: var(--fill-color);\n",
              "    }\n",
              "    90% {\n",
              "      border-color: transparent;\n",
              "      border-bottom-color: var(--fill-color);\n",
              "    }\n",
              "  }\n",
              "</style>\n",
              "\n",
              "  <script>\n",
              "    async function quickchart(key) {\n",
              "      const quickchartButtonEl =\n",
              "        document.querySelector('#' + key + ' button');\n",
              "      quickchartButtonEl.disabled = true;  // To prevent multiple clicks.\n",
              "      quickchartButtonEl.classList.add('colab-df-spinner');\n",
              "      try {\n",
              "        const charts = await google.colab.kernel.invokeFunction(\n",
              "            'suggestCharts', [key], {});\n",
              "      } catch (error) {\n",
              "        console.error('Error during call to suggestCharts:', error);\n",
              "      }\n",
              "      quickchartButtonEl.classList.remove('colab-df-spinner');\n",
              "      quickchartButtonEl.classList.add('colab-df-quickchart-complete');\n",
              "    }\n",
              "    (() => {\n",
              "      let quickchartButtonEl =\n",
              "        document.querySelector('#df-6b6ac383-1c49-45f5-826a-8e28d3fa26ca button');\n",
              "      quickchartButtonEl.style.display =\n",
              "        google.colab.kernel.accessAllowed ? 'block' : 'none';\n",
              "    })();\n",
              "  </script>\n",
              "</div>\n",
              "\n",
              "    </div>\n",
              "  </div>\n"
            ],
            "application/vnd.google.colaboratory.intrinsic+json": {
              "type": "dataframe",
              "summary": "{\n  \"name\": \"train_label\",\n  \"rows\": 8,\n  \"fields\": [\n    {\n      \"column\": 0,\n      \"properties\": {\n        \"dtype\": \"number\",\n        \"std\": 4746.96279079066,\n        \"min\": 1.0,\n        \"max\": 13440.0,\n        \"num_unique_values\": 7,\n        \"samples\": [\n          13440.0,\n          14.5,\n          21.25\n        ],\n        \"semantic_type\": \"\",\n        \"description\": \"\"\n      }\n    }\n  ]\n}"
            }
          },
          "metadata": {},
          "execution_count": 27
        }
      ]
    },
    {
      "cell_type": "code",
      "source": [
        "test_image.info()"
      ],
      "metadata": {
        "colab": {
          "base_uri": "https://localhost:8080/"
        },
        "id": "9du-3aT_F4LS",
        "outputId": "3df52fbd-a9d0-4b09-9f7a-702892e185b2"
      },
      "execution_count": 28,
      "outputs": [
        {
          "output_type": "stream",
          "name": "stdout",
          "text": [
            "<class 'pandas.core.frame.DataFrame'>\n",
            "RangeIndex: 3360 entries, 0 to 3359\n",
            "Columns: 1025 entries, 0 to label\n",
            "dtypes: int64(1025)\n",
            "memory usage: 26.3 MB\n"
          ]
        }
      ]
    },
    {
      "cell_type": "code",
      "source": [
        "# Verificando valores ausentes.\n",
        "\n",
        "print(sum(train_image.isnull().sum()),' valores ausentes em train_image.')\n",
        "print(sum(train_label.isnull().sum()),' valores ausentes em train_label.')\n",
        "print(sum(test_image.isnull().sum()),' valores ausentes em test_image.')\n",
        "print(sum(test_label.isnull().sum()),' valores ausentes em test_label.')"
      ],
      "metadata": {
        "colab": {
          "base_uri": "https://localhost:8080/"
        },
        "id": "0A2wGLaHGBxa",
        "outputId": "95d51e2c-8c2d-4a63-a320-0ddaa972ffcc"
      },
      "execution_count": 29,
      "outputs": [
        {
          "output_type": "stream",
          "name": "stdout",
          "text": [
            "0  valores ausentes em train_image.\n",
            "0  valores ausentes em train_label.\n",
            "0  valores ausentes em test_image.\n",
            "0  valores ausentes em test_label.\n"
          ]
        }
      ]
    },
    {
      "cell_type": "markdown",
      "source": [
        "### Manipulação dos Dados\n",
        "  * Foi necessário adicionar os 'label' ao conjunto de imagens para ter um treinamento e avaliação mais precisos do alfabeto árabe.\n",
        "  * Criou-se uma classe para carregar, transformar e retornar as imagens e seus rótulos já com reshape 32x32.\n",
        "  * Fruto das diversas tentativas de melhoria adotou-se a técnica de 'Data Augmentation', para o modelo 'ter' mais dados para treino. Usou-se métodos de rotação e translação das imagens."
      ],
      "metadata": {
        "id": "5cTZmdIjGvn8"
      }
    },
    {
      "cell_type": "code",
      "source": [
        "# Adiciona os 'label' ao dataframe\n",
        "train_image['label'] = train_label\n",
        "test_image['label'] = test_label\n",
        "print(train_image.shape)"
      ],
      "metadata": {
        "colab": {
          "base_uri": "https://localhost:8080/"
        },
        "id": "IaTtsCZH4Ts1",
        "outputId": "1f8ba851-5df8-457d-9d0d-3fb190261867"
      },
      "execution_count": 30,
      "outputs": [
        {
          "output_type": "stream",
          "name": "stdout",
          "text": [
            "(13440, 1025)\n"
          ]
        }
      ]
    },
    {
      "cell_type": "code",
      "source": [
        "# Classe para load e transform, fazendo reshape para 32x32 (1024 pixels)\n",
        "class ImageDataset(Dataset):\n",
        "    def __init__(self, data, transform=None):\n",
        "        self.data = data\n",
        "        self.transform = transform\n",
        "\n",
        "    def __len__(self):\n",
        "        return len(self.data)\n",
        "\n",
        "    def __getitem__(self, index):\n",
        "        image = self.data.iloc[index, self.data.columns != 'label'].values.astype(np.uint8).reshape(32, 32)\n",
        "        label = self.data.iloc[index, -1] - 1\n",
        "\n",
        "        # Convert numpy array to PIL image\n",
        "        image = Image.fromarray(image)\n",
        "\n",
        "        if self.transform is not None:\n",
        "            image = self.transform(image)\n",
        "\n",
        "        return image, label"
      ],
      "metadata": {
        "id": "0EVvJsctTUne"
      },
      "execution_count": 31,
      "outputs": []
    },
    {
      "cell_type": "code",
      "source": [
        "# Data Augmentation\n",
        "transform = transforms.Compose([\n",
        "    transforms.RandomRotation(10),  # Rotação randômica das imagens (10 graus)\n",
        "    transforms.RandomAffine(0, translate=(0.1, 0.1)),  # Translação randômica das imagens\n",
        "    transforms.ToTensor(),\n",
        "    transforms.Normalize((0.5,), (0.5,))\n",
        "])"
      ],
      "metadata": {
        "id": "nalDBObBzPTr"
      },
      "execution_count": 32,
      "outputs": []
    },
    {
      "cell_type": "code",
      "source": [
        "# Criação dos datasets e data loaders\n",
        "train_image_dataset = ImageDataset(train_image, transform)\n",
        "train_loader = DataLoader(train_image_dataset, batch_size=32, shuffle=True)\n",
        "test_image_dataset = ImageDataset(test_image, transform)\n",
        "test_loader = DataLoader(test_image_dataset, batch_size=32, shuffle=False)"
      ],
      "metadata": {
        "id": "9DdWh8h04sFN"
      },
      "execution_count": 33,
      "outputs": []
    },
    {
      "cell_type": "markdown",
      "source": [
        "### Visualização dos Dados"
      ],
      "metadata": {
        "id": "P7iDSu3uLaWe"
      }
    },
    {
      "cell_type": "code",
      "source": [
        "train_image.shape"
      ],
      "metadata": {
        "colab": {
          "base_uri": "https://localhost:8080/"
        },
        "id": "tKN4wz8nL1nq",
        "outputId": "1a0608d7-da73-4496-8724-8bc4862fc0f1"
      },
      "execution_count": 40,
      "outputs": [
        {
          "output_type": "execute_result",
          "data": {
            "text/plain": [
              "(13440, 1025)"
            ]
          },
          "metadata": {},
          "execution_count": 40
        }
      ]
    },
    {
      "cell_type": "code",
      "source": [
        "# Visualizando uma amostra dos dados de teste\n",
        "\n",
        "random_indices = np.random.choice(len(train_image), 16, replace=False)\n",
        "\n",
        "fig, axes = plt.subplots(4, 4, figsize=(7, 7))\n",
        "\n",
        "for i, idx in enumerate(random_indices):\n",
        "    image = train_image.iloc[idx, train_image.columns != 'label'].values.astype(np.uint8).reshape(32, 32)\n",
        "    label = train_image.iloc[idx, -1]\n",
        "\n",
        "    image = Image.fromarray(image)\n",
        "\n",
        "    ax = axes[i // 4, i % 4]\n",
        "    ax.imshow(image)\n",
        "    ax.axis('off')\n",
        "\n",
        "plt.tight_layout()\n",
        "plt.show()"
      ],
      "metadata": {
        "colab": {
          "base_uri": "https://localhost:8080/",
          "height": 707
        },
        "id": "HmhYdZAdLhTF",
        "outputId": "e632f111-c35a-454c-d00d-8883979c058c"
      },
      "execution_count": 50,
      "outputs": [
        {
          "output_type": "display_data",
          "data": {
            "text/plain": [
              "<Figure size 700x700 with 16 Axes>"
            ],
            "image/png": "[encoded data removed]"
          },
          "metadata": {}
        }
      ]
    },
    {
      "cell_type": "markdown",
      "source": [
        "##(ii) Definição do modelo de redes neurais utilizada para treinar o modelo"
      ],
      "metadata": {
        "id": "JZkamyar4tm0"
      }
    },
    {
      "cell_type": "markdown",
      "source": [
        "* `Após diversas tentativas de se obter um desempenho melhor, chegou-se ao modelo abaixo:`\n",
        "* `Devido a complexidade dos caracteres árabes, usou-se muitos nós de rede e 3 camadas ocultas.`\n",
        "* `Os testes mostraram que mais de 3 camadas ocultas resultava em performance pior, e também o uso de ReLU tradional não surtia efeito ótimo.`\n",
        "* `A rede inicia com 32x32 nós de entrada (1024 pixels das imagens) e tem como saída 28 nós, perfazendo todos os algarismos do alfabeto árabe.`\n",
        "* `Usou-se Leaky_relu como função de ativação para lidar com as limitações do ReLU (dead neuron), associada com batch de normalização para estabilizar mais o treino.`\n",
        "* `Para regularização testou-se dropout de 0.2, 0.3 e 0.5, sendo 0.3 o de melhor resultado.`\n"
      ],
      "metadata": {
        "id": "Y5ZxJctlQF6j"
      }
    },
    {
      "cell_type": "code",
      "source": [
        "class Net(nn.Module):\n",
        "    def __init__(self):\n",
        "        super(Net, self).__init__()\n",
        "        hidden_1 = 512\n",
        "        hidden_2 = 512\n",
        "        hidden_3 = 256\n",
        "\n",
        "        self.fc1 = nn.Linear(32*32, hidden_1)\n",
        "        self.bn1 = nn.BatchNorm1d(hidden_1)\n",
        "        self.fc2 = nn.Linear(hidden_1, hidden_2)\n",
        "        self.bn2 = nn.BatchNorm1d(hidden_2)\n",
        "        self.fc3 = nn.Linear(hidden_2, hidden_3)\n",
        "        self.bn3 = nn.BatchNorm1d(hidden_3)\n",
        "        self.fc4 = nn.Linear(hidden_3, 28)\n",
        "        self.dropout = nn.Dropout(0.3)\n",
        "\n",
        "    def forward(self, x):\n",
        "        x = x.view(-1, 32*32)  # Flatten the input\n",
        "        x = F.leaky_relu(self.bn1(self.fc1(x)))\n",
        "        x = self.dropout(x)  # Apply dropout\n",
        "        x = F.leaky_relu(self.bn2(self.fc2(x)))\n",
        "        x = self.dropout(x)  # Apply dropout\n",
        "        x = F.leaky_relu(self.bn3(self.fc3(x)))\n",
        "        x = self.dropout(x)  # Apply dropout\n",
        "        output = self.fc4(x)  # Output layer\n",
        "        return output\n",
        "\n",
        "model = Net()\n",
        "print(model)"
      ],
      "metadata": {
        "colab": {
          "base_uri": "https://localhost:8080/"
        },
        "id": "c-SyYeqxOQwi",
        "outputId": "0bb29b39-7f97-4eb2-caef-0310eb9d17a0"
      },
      "execution_count": 54,
      "outputs": [
        {
          "output_type": "stream",
          "name": "stdout",
          "text": [
            "Net(\n",
            "  (fc1): Linear(in_features=1024, out_features=512, bias=True)\n",
            "  (bn1): BatchNorm1d(512, eps=1e-05, momentum=0.1, affine=True, track_running_stats=True)\n",
            "  (fc2): Linear(in_features=512, out_features=512, bias=True)\n",
            "  (bn2): BatchNorm1d(512, eps=1e-05, momentum=0.1, affine=True, track_running_stats=True)\n",
            "  (fc3): Linear(in_features=512, out_features=256, bias=True)\n",
            "  (bn3): BatchNorm1d(256, eps=1e-05, momentum=0.1, affine=True, track_running_stats=True)\n",
            "  (fc4): Linear(in_features=256, out_features=28, bias=True)\n",
            "  (dropout): Dropout(p=0.3, inplace=False)\n",
            ")\n"
          ]
        }
      ]
    },
    {
      "cell_type": "markdown",
      "source": [
        "##(iii) Treinamento do modelo"
      ],
      "metadata": {
        "id": "NFzJv5Kw46Gz"
      }
    },
    {
      "cell_type": "markdown",
      "source": [
        "* `Como poderá ser visto no gráfico 60 épocas já dá uma estacionariedade aos resultados. O learning rate teve que ser bem baixo para conseguir melhores resultados.`\n",
        "* `O otimizador Adam foi substituído pelo AdamW para obeter um training loss melhorado, com decaimento de peso.`\n",
        "* `Ao learning rate foi adotado scheduler para melhor ajuste durante o treino, ficando o CosineAnnealingLR como o tipo de melhor desempenho nos testes.`\n",
        "* `A função de perda foi a de entropia, já consolidada como mais eficiente.`"
      ],
      "metadata": {
        "id": "R3K79sXNUi2g"
      }
    },
    {
      "cell_type": "code",
      "source": [
        "num_epochs = 60\n",
        "learning_rate = 0.0005\n",
        "\n",
        "optimizer = torch.optim.AdamW(model.parameters(), lr=learning_rate, weight_decay=1e-5)\n",
        "\n",
        "criterion = nn.CrossEntropyLoss()\n",
        "\n",
        "scheduler = lr_scheduler.CosineAnnealingLR(optimizer, T_max=num_epochs)"
      ],
      "metadata": {
        "id": "iGlreJ9v3dNd"
      },
      "execution_count": 55,
      "outputs": []
    },
    {
      "cell_type": "markdown",
      "source": [
        "* `O laço de treinamento foi incrementado para contabilizar as informações de perda e acurácia, para fins de construção do gráfico de desempenho.`\n",
        "* `À época que o treino é feito faz-se o teste de avaliação e armazenou-se para fins também de plotting.`\n",
        "* `A cada época se zera os gradientes do otimizador, faz-se a predição, cálculo da perda, backpropagation das perdas para atualização dos pesos do otimizador.`\n",
        "* `No modelo de avaliação se compara o predito com os 'label'.`"
      ],
      "metadata": {
        "id": "0FSE5vQ-Xv47"
      }
    },
    {
      "cell_type": "code",
      "source": [
        "train_loss_list = []\n",
        "train_acc_list = []\n",
        "test_acc_list = []\n",
        "\n",
        "###### LAÇO DE TREINAMENTO ######\n",
        "for epoch in range(num_epochs):\n",
        "    model.train()\n",
        "    running_loss = 0.0\n",
        "    running_corrects = 0\n",
        "    total_samples = 0\n",
        "\n",
        "    for i, (images, labels) in enumerate(train_loader):\n",
        "        outputs = model(images)\n",
        "        loss = criterion(outputs, labels)\n",
        "\n",
        "        optimizer.zero_grad()  # Zero the gradients\n",
        "        loss.backward()  # Backpropagate the loss\n",
        "        optimizer.step()  # Update the weights\n",
        "\n",
        "        running_loss += loss.item()\n",
        "        _, preds = torch.max(outputs, 1)\n",
        "        running_corrects += torch.sum(preds == labels.data)\n",
        "        total_samples += labels.size(0)\n",
        "\n",
        "    epoch_loss = running_loss / len(train_loader)\n",
        "    epoch_acc = running_corrects.double() / total_samples\n",
        "    train_loss_list.append(epoch_loss)\n",
        "    train_acc_list.append(epoch_acc.item())\n",
        "\n",
        "    # Print epoch loss and accuracy\n",
        "    print(f'Epoch [{epoch + 1}/{num_epochs}], Loss: {epoch_loss:.4f}, Accuracy: {epoch_acc * 100:.2f}%')\n",
        "\n",
        "    # Step the learning rate scheduler\n",
        "    scheduler.step()\n",
        "\n",
        "    ###### LAÇO DE AVALIAÇÃO (em cada época) ######\n",
        "    model.eval()\n",
        "    correct = 0\n",
        "    total = 0\n",
        "    with torch.no_grad():\n",
        "        for images, labels in test_loader:\n",
        "            outputs = model(images)\n",
        "            _, predicted = torch.max(outputs.data, 1)\n",
        "            total += labels.size(0)\n",
        "            correct += (predicted == labels).sum().item()\n",
        "\n",
        "    test_acc = correct / total\n",
        "    test_acc_list.append(test_acc)\n",
        "    print(f'Test Accuracy after Epoch {epoch + 1}: {test_acc * 100:.2f}%')"
      ],
      "metadata": {
        "colab": {
          "base_uri": "https://localhost:8080/"
        },
        "id": "jryeB4KHOdWt",
        "outputId": "d4602aac-20c6-4192-8f0d-b63cc6c399c0"
      },
      "execution_count": 56,
      "outputs": [
        {
          "output_type": "stream",
          "name": "stdout",
          "text": [
            "Epoch [1/60], Loss: 2.5860, Accuracy: 21.79%\n",
            "Test Accuracy after Epoch 1: 38.45%\n",
            "Epoch [2/60], Loss: 1.9997, Accuracy: 34.91%\n",
            "Test Accuracy after Epoch 2: 44.61%\n",
            "Epoch [3/60], Loss: 1.7879, Accuracy: 40.38%\n",
            "Test Accuracy after Epoch 3: 50.48%\n",
            "Epoch [4/60], Loss: 1.6358, Accuracy: 44.40%\n",
            "Test Accuracy after Epoch 4: 55.36%\n",
            "Epoch [5/60], Loss: 1.5281, Accuracy: 48.21%\n",
            "Test Accuracy after Epoch 5: 59.49%\n",
            "Epoch [6/60], Loss: 1.4665, Accuracy: 50.16%\n",
            "Test Accuracy after Epoch 6: 60.95%\n",
            "Epoch [7/60], Loss: 1.4133, Accuracy: 51.70%\n",
            "Test Accuracy after Epoch 7: 64.05%\n",
            "Epoch [8/60], Loss: 1.3587, Accuracy: 52.97%\n",
            "Test Accuracy after Epoch 8: 66.88%\n",
            "Epoch [9/60], Loss: 1.3108, Accuracy: 54.73%\n",
            "Test Accuracy after Epoch 9: 65.24%\n",
            "Epoch [10/60], Loss: 1.2718, Accuracy: 55.71%\n",
            "Test Accuracy after Epoch 10: 69.02%\n",
            "Epoch [11/60], Loss: 1.2489, Accuracy: 56.71%\n",
            "Test Accuracy after Epoch 11: 67.89%\n",
            "Epoch [12/60], Loss: 1.2252, Accuracy: 57.49%\n",
            "Test Accuracy after Epoch 12: 70.33%\n",
            "Epoch [13/60], Loss: 1.1942, Accuracy: 59.00%\n",
            "Test Accuracy after Epoch 13: 73.12%\n",
            "Epoch [14/60], Loss: 1.1758, Accuracy: 59.58%\n",
            "Test Accuracy after Epoch 14: 70.95%\n",
            "Epoch [15/60], Loss: 1.1557, Accuracy: 59.49%\n",
            "Test Accuracy after Epoch 15: 73.36%\n",
            "Epoch [16/60], Loss: 1.1218, Accuracy: 60.71%\n",
            "Test Accuracy after Epoch 16: 74.43%\n",
            "Epoch [17/60], Loss: 1.1132, Accuracy: 61.89%\n",
            "Test Accuracy after Epoch 17: 74.64%\n",
            "Epoch [18/60], Loss: 1.0819, Accuracy: 62.25%\n",
            "Test Accuracy after Epoch 18: 74.32%\n",
            "Epoch [19/60], Loss: 1.0616, Accuracy: 63.11%\n",
            "Test Accuracy after Epoch 19: 74.73%\n",
            "Epoch [20/60], Loss: 1.0559, Accuracy: 63.00%\n",
            "Test Accuracy after Epoch 20: 75.00%\n",
            "Epoch [21/60], Loss: 1.0329, Accuracy: 64.06%\n",
            "Test Accuracy after Epoch 21: 74.79%\n",
            "Epoch [22/60], Loss: 1.0176, Accuracy: 64.70%\n",
            "Test Accuracy after Epoch 22: 77.23%\n",
            "Epoch [23/60], Loss: 1.0123, Accuracy: 64.28%\n",
            "Test Accuracy after Epoch 23: 76.43%\n",
            "Epoch [24/60], Loss: 0.9953, Accuracy: 64.94%\n",
            "Test Accuracy after Epoch 24: 77.05%\n",
            "Epoch [25/60], Loss: 0.9905, Accuracy: 65.47%\n",
            "Test Accuracy after Epoch 25: 78.07%\n",
            "Epoch [26/60], Loss: 0.9732, Accuracy: 65.42%\n",
            "Test Accuracy after Epoch 26: 78.27%\n",
            "Epoch [27/60], Loss: 0.9650, Accuracy: 66.54%\n",
            "Test Accuracy after Epoch 27: 79.02%\n",
            "Epoch [28/60], Loss: 0.9416, Accuracy: 67.29%\n",
            "Test Accuracy after Epoch 28: 79.52%\n",
            "Epoch [29/60], Loss: 0.9425, Accuracy: 66.75%\n",
            "Test Accuracy after Epoch 29: 79.11%\n",
            "Epoch [30/60], Loss: 0.9234, Accuracy: 67.25%\n",
            "Test Accuracy after Epoch 30: 80.27%\n",
            "Epoch [31/60], Loss: 0.9235, Accuracy: 67.51%\n",
            "Test Accuracy after Epoch 31: 80.00%\n",
            "Epoch [32/60], Loss: 0.9063, Accuracy: 68.34%\n",
            "Test Accuracy after Epoch 32: 80.62%\n",
            "Epoch [33/60], Loss: 0.9093, Accuracy: 68.26%\n",
            "Test Accuracy after Epoch 33: 81.40%\n",
            "Epoch [34/60], Loss: 0.9051, Accuracy: 68.53%\n",
            "Test Accuracy after Epoch 34: 81.64%\n",
            "Epoch [35/60], Loss: 0.9074, Accuracy: 67.91%\n",
            "Test Accuracy after Epoch 35: 81.85%\n",
            "Epoch [36/60], Loss: 0.8707, Accuracy: 69.35%\n",
            "Test Accuracy after Epoch 36: 80.89%\n",
            "Epoch [37/60], Loss: 0.8741, Accuracy: 69.14%\n",
            "Test Accuracy after Epoch 37: 82.11%\n",
            "Epoch [38/60], Loss: 0.8682, Accuracy: 69.13%\n",
            "Test Accuracy after Epoch 38: 81.76%\n",
            "Epoch [39/60], Loss: 0.8623, Accuracy: 69.72%\n",
            "Test Accuracy after Epoch 39: 82.41%\n",
            "Epoch [40/60], Loss: 0.8531, Accuracy: 69.99%\n",
            "Test Accuracy after Epoch 40: 81.96%\n",
            "Epoch [41/60], Loss: 0.8540, Accuracy: 70.28%\n",
            "Test Accuracy after Epoch 41: 81.67%\n",
            "Epoch [42/60], Loss: 0.8408, Accuracy: 70.68%\n",
            "Test Accuracy after Epoch 42: 82.83%\n",
            "Epoch [43/60], Loss: 0.8369, Accuracy: 70.97%\n",
            "Test Accuracy after Epoch 43: 82.32%\n",
            "Epoch [44/60], Loss: 0.8340, Accuracy: 70.92%\n",
            "Test Accuracy after Epoch 44: 82.83%\n",
            "Epoch [45/60], Loss: 0.8322, Accuracy: 71.35%\n",
            "Test Accuracy after Epoch 45: 83.45%\n",
            "Epoch [46/60], Loss: 0.8159, Accuracy: 71.15%\n",
            "Test Accuracy after Epoch 46: 83.90%\n",
            "Epoch [47/60], Loss: 0.8170, Accuracy: 71.18%\n",
            "Test Accuracy after Epoch 47: 83.18%\n",
            "Epoch [48/60], Loss: 0.8080, Accuracy: 71.54%\n",
            "Test Accuracy after Epoch 48: 83.12%\n",
            "Epoch [49/60], Loss: 0.8022, Accuracy: 72.05%\n",
            "Test Accuracy after Epoch 49: 84.61%\n",
            "Epoch [50/60], Loss: 0.8104, Accuracy: 71.27%\n",
            "Test Accuracy after Epoch 50: 83.69%\n",
            "Epoch [51/60], Loss: 0.8121, Accuracy: 71.29%\n",
            "Test Accuracy after Epoch 51: 83.42%\n",
            "Epoch [52/60], Loss: 0.8020, Accuracy: 71.64%\n",
            "Test Accuracy after Epoch 52: 82.77%\n",
            "Epoch [53/60], Loss: 0.7839, Accuracy: 72.28%\n",
            "Test Accuracy after Epoch 53: 83.10%\n",
            "Epoch [54/60], Loss: 0.8084, Accuracy: 71.24%\n",
            "Test Accuracy after Epoch 54: 84.02%\n",
            "Epoch [55/60], Loss: 0.7900, Accuracy: 72.01%\n",
            "Test Accuracy after Epoch 55: 83.51%\n",
            "Epoch [56/60], Loss: 0.7897, Accuracy: 72.00%\n",
            "Test Accuracy after Epoch 56: 83.93%\n",
            "Epoch [57/60], Loss: 0.7956, Accuracy: 71.93%\n",
            "Test Accuracy after Epoch 57: 83.10%\n",
            "Epoch [58/60], Loss: 0.7906, Accuracy: 72.10%\n",
            "Test Accuracy after Epoch 58: 83.10%\n",
            "Epoch [59/60], Loss: 0.7753, Accuracy: 72.42%\n",
            "Test Accuracy after Epoch 59: 83.42%\n",
            "Epoch [60/60], Loss: 0.7923, Accuracy: 72.33%\n",
            "Test Accuracy after Epoch 60: 84.67%\n"
          ]
        }
      ]
    },
    {
      "cell_type": "markdown",
      "source": [
        "##(iv) Análise da performance"
      ],
      "metadata": {
        "id": "Ec9b3KKG6HG8"
      }
    },
    {
      "cell_type": "markdown",
      "source": [
        "* `Gráfico aprentando as perdas e a acurácia de treino e teste à cada época da rede.`"
      ],
      "metadata": {
        "id": "2lhIe5DhZ6zW"
      }
    },
    {
      "cell_type": "code",
      "source": [
        "# Plotting Loss and Accuracy\n",
        "epochs = range(1, num_epochs + 1)\n",
        "\n",
        "fig, ax1 = plt.subplots()\n",
        "\n",
        "# Plotting the loss\n",
        "color = 'tab:red'\n",
        "ax1.set_xlabel('Epoch')\n",
        "ax1.set_ylabel('Loss', color=color)\n",
        "ax1.plot(epochs, train_loss_list, color=color)\n",
        "ax1.tick_params(axis='y', labelcolor=color)\n",
        "\n",
        "# Creating a second y-axis to plot the accuracy\n",
        "ax2 = ax1.twinx()\n",
        "color = 'tab:blue'\n",
        "ax2.set_ylabel('Accuracy (%)', color=color)\n",
        "ax2.plot(epochs, [acc * 100 for acc in train_acc_list], label='Train Accuracy', color=color, linestyle='dashed')\n",
        "ax2.plot(epochs, [acc * 100 for acc in test_acc_list], label='Test Accuracy', color='tab:green')\n",
        "ax2.tick_params(axis='y', labelcolor=color)\n",
        "\n",
        "ax2.set_yticks(range(20, 86, 5))\n",
        "\n",
        "fig.tight_layout()\n",
        "plt.title('Training Loss and Accuracy')\n",
        "plt.legend()\n",
        "plt.show()"
      ],
      "metadata": {
        "colab": {
          "base_uri": "https://localhost:8080/",
          "height": 509
        },
        "id": "EGPU6A1FOw-r",
        "outputId": "80a2c4eb-0a9a-424b-b82c-9489ffa124a8"
      },
      "execution_count": 57,
      "outputs": [
        {
          "output_type": "display_data",
          "data": {
            "text/plain": [
              "<Figure size 640x480 with 2 Axes>"
            ],
            "image/png": "[encoded data removed]"
          },
          "metadata": {}
        }
      ]
    },
    {
      "cell_type": "markdown",
      "source": [
        "* `Matriz de confusão mostrando a dispersão entre os caracters preditos e reais do alfabeto árabe.`"
      ],
      "metadata": {
        "id": "yv0j5l-kaHb_"
      }
    },
    {
      "cell_type": "code",
      "source": [
        "# Confusion Matrix\n",
        "\n",
        "model.eval()\n",
        "all_labels = []\n",
        "all_preds = []\n",
        "with torch.no_grad():\n",
        "    for images, labels in test_loader:\n",
        "        outputs = model(images)\n",
        "        _, predicted = torch.max(outputs, 1)\n",
        "        all_labels.extend(labels.cpu().numpy())\n",
        "        all_preds.extend(predicted.cpu().numpy())\n",
        "\n",
        "cm = confusion_matrix(all_labels, all_preds)\n",
        "plt.figure(figsize=(12, 8))\n",
        "disp = ConfusionMatrixDisplay(confusion_matrix=cm)\n",
        "disp.plot(cmap='Blues')\n",
        "plt.title('Confusion Matrix')\n",
        "plt.show()"
      ],
      "metadata": {
        "colab": {
          "base_uri": "https://localhost:8080/",
          "height": 489
        },
        "id": "GXcz3Q314S9L",
        "outputId": "4fb306c3-7415-4537-d6ef-38da2408402b"
      },
      "execution_count": 64,
      "outputs": [
        {
          "output_type": "display_data",
          "data": {
            "text/plain": [
              "<Figure size 1800x800 with 0 Axes>"
            ]
          },
          "metadata": {}
        },
        {
          "output_type": "display_data",
          "data": {
            "text/plain": [
              "<Figure size 640x480 with 2 Axes>"
            ],
            "image/png": "[encoded data removed]"
          },
          "metadata": {}
        }
      ]
    },
    {
      "cell_type": "markdown",
      "source": [
        "##Conclusão"
      ],
      "metadata": {
        "id": "olZlR3n66YuQ"
      }
    },
    {
      "cell_type": "markdown",
      "source": [
        "* `Ao escolher o dataset do alfabeto manuscrito árabe, o que chamou atenção foi que todos os códigos disponíveis no Kaggle usavam CNN. Somente após botar para rodar os treinamentos e testes pude finalmente entender o por que.`\n",
        "* `As imagens com as letras manuscritas do árabe são muito complexas, então o não uso de redes convolucionais restrigiu a capacidade do modelo ser melhor treinado.`\n",
        "* `Com isso vários testes foram feitos, começando com o básico, nn.Linear com 1 camada somente, depois multiplas camadas e vários ajustes de funções de ativação, hyperparameters, conforme demonstrado acima.`\n",
        "* `Mesmo não usando CNN consegui-se acurácio de treino de 72% e de teste 84%, o que sugere uma rede ainda underfitted, havendo margem para melhoria sem risco de overfitting.`\n",
        "* `Conforme pode ser visto no gráfico de perda e acurácia, com mais épocas ainda poderia-se conseguir uma melhora, todavia o tempo de processamento é alto para um ganho adiconal marginal.`"
      ],
      "metadata": {
        "id": "mVJoDo8LseLD"
      }
    }
  ]
}
